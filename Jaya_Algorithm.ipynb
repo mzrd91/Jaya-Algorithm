{
  "nbformat": 4,
  "nbformat_minor": 0,
  "metadata": {
    "colab": {
      "provenance": [],
      "authorship_tag": "ABX9TyPm4CJy0CQ28oVisutmOI+c",
      "include_colab_link": true
    },
    "kernelspec": {
      "name": "python3",
      "display_name": "Python 3"
    },
    "language_info": {
      "name": "python"
    }
  },
  "cells": [
    {
      "cell_type": "markdown",
      "metadata": {
        "id": "view-in-github",
        "colab_type": "text"
      },
      "source": [
        "<a href=\"https://colab.research.google.com/github/mzrd91/Jaya-Algorithm/blob/main/Jaya_Algorithm.ipynb\" target=\"_parent\"><img src=\"https://colab.research.google.com/assets/colab-badge.svg\" alt=\"Open In Colab\"/></a>"
      ]
    },
    {
      "cell_type": "code",
      "execution_count": null,
      "metadata": {
        "colab": {
          "base_uri": "https://localhost:8080/"
        },
        "id": "ii2PzYWlMG9l",
        "outputId": "266a103e-f032-4822-edd7-6be4806908c8"
      },
      "outputs": [
        {
          "output_type": "stream",
          "name": "stdout",
          "text": [
            "Table: Maximum value (theoretical) of E(X|n):\n",
            "\n",
            "   Population Size  Theoretical Worst-Index Updates\n",
            "0               10                         0.159374\n",
            "1               50                         0.033832\n",
            "2              100                         0.017048\n",
            "3              500                         0.003431\n",
            "4             1500                         0.001145\n",
            "5             2500                         0.000687\n",
            "6             3500                         0.000491\n",
            "7             4500                         0.000382\n",
            "8            10000                         0.000172\n",
            "\n",
            "best fitness 0.07598341130952829\n",
            "\n",
            "Best Solution: [6.22428300e-05 3.86577265e-02 2.72392499e-01 1.62084171e-02\n",
            " 5.34800258e-03]\n",
            "\n",
            "Theoretical Worst-Index Updates: 0.00017181459268256205\n",
            "\n",
            "Maximum value: 0.15937424601000005\n"
          ]
        }
      ],
      "source": [
        "import numpy as np\n",
        "import pandas as pd\n",
        "from scipy.special import gammaln\n",
        "import math\n",
        "\n",
        "# Function to calculate expected number of updates based on the provided equation on paper\n",
        "def expected_updates(n):\n",
        "    sum_series = 0\n",
        "    for k in range(1, n+1):\n",
        "        for m in range(1, k+1):\n",
        "            # Using gammaln for more efficient computation of log-factorials\n",
        "            log_factorial_k_minus_1 = gammaln(k)\n",
        "            log_factorial_m_minus_1 = gammaln(m)\n",
        "            log_factorial_k_minus_m = gammaln(k - m + 1)\n",
        "\n",
        "            log_term = log_factorial_k_minus_1 - log_factorial_m_minus_1 - log_factorial_k_minus_m + m * math.log(1/n)\n",
        "            term = math.exp(log_term - math.log(n))  # Adjusting the term to prevent overflow\n",
        "\n",
        "            sum_series += term\n",
        "\n",
        "    return (1 + sum_series) - 1\n",
        "\n",
        "\n",
        "# Placeholder for the actual fitness function.\n",
        "def fitness_function(solution):\n",
        "    return np.sum(np.square(solution))  # Example fitness function\n",
        "\n",
        "# Update rule for the Jaya algorithm\n",
        "def update_solution(solution, best_solution, worst_solution, p=1):\n",
        "    # Since p=1, the update is always performed.\n",
        "    r1, r2 = np.random.rand(), np.random.rand()\n",
        "    new_solution = solution + r1 * (best_solution - abs(solution)) - r2 * (worst_solution - abs(solution))\n",
        "    return new_solution\n",
        "\n",
        "# semi-steady-state Jaya algorithm implementation.\n",
        "def semi_steady_state_Jaya(population_size, dimensions, lower_bound, upper_bound, max_iterations, p=1):\n",
        "    population = np.random.uniform(low=lower_bound, high=upper_bound, size=(population_size, dimensions))\n",
        "    fitness = np.apply_along_axis(fitness_function, 1, population)\n",
        "    worst_index_updates = 0  # Track the number of worst-index updates\n",
        "\n",
        "    for iteration in range(max_iterations):\n",
        "        best_solution = population[np.argmin(fitness)]\n",
        "        worst_solution = population[np.argmax(fitness)]\n",
        "\n",
        "        for i in range(population_size):\n",
        "            if p == 1 or np.random.rand() < p:  # Update always happens if p=1\n",
        "                population[i] = update_solution(population[i], best_solution, worst_solution)\n",
        "                population[i] = np.clip(population[i], lower_bound, upper_bound)\n",
        "\n",
        "                new_fitness = fitness_function(population[i])\n",
        "                if new_fitness < fitness[i]:\n",
        "                    fitness[i] = new_fitness\n",
        "                else:\n",
        "                    population[i] = best_solution if new_fitness > fitness[i] else population[i]\n",
        "\n",
        "                # If the worst index was updated, increment the counter\n",
        "                if np.argmax(fitness) != worst_index_updates:\n",
        "                    worst_index_updates += 1\n",
        "\n",
        "    # Calculate the theoretical expected updates for comparison\n",
        "    theoretical_updates = expected_updates(population_size)\n",
        "\n",
        "    return best_solution, fitness_function(best_solution), worst_index_updates, theoretical_updates\n",
        "\n",
        "population_sizes = [10, 50, 100, 500, 1500, 2500, 3500, 4500, 10000]\n",
        "results = []\n",
        "\n",
        "# Run the semi-steady-state Jaya algorithm for each population size and calculate the expected updates\n",
        "for n in population_sizes:\n",
        "    best_solution, best_fitness, empirical_worst_index_updates, theoretical_worst_index_updates = semi_steady_state_Jaya(\n",
        "        population_size=n,\n",
        "        dimensions=5,\n",
        "        lower_bound=-10,\n",
        "        upper_bound=10,\n",
        "        max_iterations=100\n",
        "    )\n",
        "    results.append([n, theoretical_worst_index_updates])\n",
        "\n",
        "max_updates = max(result[1] for result in results)\n",
        "\n",
        "# Create a DataFrame to display the results in a table format\n",
        "df = pd.DataFrame(results, columns=['Population Size', 'Theoretical Worst-Index Updates'])\n",
        "\n",
        "# Display the DataFrame table and results\n",
        "print(\"Table: Maximum value (theoretical) of E(X|n):\\n\")\n",
        "print(df)\n",
        "print(\"\\nbest fitness\", best_fitness)\n",
        "print(\"\\nBest Solution:\", best_solution)\n",
        "print(\"\\nTheoretical Worst-Index Updates:\", theoretical_worst_index_updates)\n",
        "print(f\"\\nMaximum value: {max_updates}\")"
      ]
    }
  ]
}